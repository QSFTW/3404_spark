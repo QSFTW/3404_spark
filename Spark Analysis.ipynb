{
 "cells": [
  {
   "cell_type": "markdown",
   "metadata": {},
   "source": [
    "# Question 1: Data Analysis with Spark"
   ]
  },
  {
   "cell_type": "code",
   "execution_count": 11,
   "metadata": {},
   "outputs": [],
   "source": [
    "import csv\n",
    "from pyspark.sql import SparkSession\n",
    "from pyspark.sql.types import StructType, StructField, StringType, IntegerType, DateType\n",
    "from pyspark.sql.window import Window\n",
    "from pyspark.sql.functions import *"
   ]
  },
  {
   "cell_type": "markdown",
   "metadata": {},
   "source": [
    "#### Configure file path"
   ]
  },
  {
   "cell_type": "code",
   "execution_count": 3,
   "metadata": {},
   "outputs": [],
   "source": [
    "# local file path configured for testing locally\n",
    "aircraft_path = 'assignment_data_files/ontimeperformance_aircrafts.csv'\n",
    "airline_path = 'assignment_data_files/ontimeperformance_airlines.csv'\n",
    "airport_path = 'assignment_data_files/ontimeperformance_airports.csv'\n",
    "\n",
    "## Alter flight_path to assess performace later for Qestion 2\n",
    "flight_path = 'assignment_data_files/ontimeperformance_flights_tiny.csv'"
   ]
  },
  {
   "cell_type": "markdown",
   "metadata": {},
   "source": [
    "#### Start SparkSession and load data to the form of Spark Dataframe"
   ]
  },
  {
   "cell_type": "code",
   "execution_count": 4,
   "metadata": {},
   "outputs": [],
   "source": [
    "spark = SparkSession \\\n",
    "    .builder \\\n",
    "    .appName(\"training explore\") \\\n",
    "    .getOrCreate()\n",
    "\n",
    "\n",
    "aircraft_df = spark.read.csv(aircraft_path, header=True) \\\n",
    "                .select(\"tailnum\", \"manufacturer\", \"model\") \\\n",
    "                .na.drop() \\\n",
    "                .cache()\n",
    "\n",
    "airline_df = spark.read.csv(airline_path, header=True).cache()\n",
    "\n",
    "flight_schema = StructType([\n",
    "    StructField(\"flight_id\", StringType(), True),\n",
    "    StructField(\"carrier_code\", StringType(), True),\n",
    "    StructField(\"flight_number\", StringType(), True),\n",
    "    StructField(\"flight_date\",DateType(),True),\n",
    "    StructField(\"origin\",StringType(),True),\n",
    "    StructField(\"destination\",StringType(),True),\n",
    "    StructField(\"tail_number\",StringType(),True),\n",
    "    StructField(\"scheduled_depature_time\",StringType(),True),\n",
    "    StructField(\"scheduled_arrival_time\",StringType(),True),\n",
    "    StructField(\"actual_departure_time\",StringType(),True),\n",
    "    StructField(\"actual_arrival_time\",StringType(),True),\n",
    "    StructField(\"distance\",IntegerType(),True)\n",
    "    ])\n",
    "\n",
    "flight_df = spark.read.csv(flight_path, header=True, schema= flight_schema) \\\n",
    "                    .select(\"carrier_code\", \"flight_date\", \"tail_number\", \n",
    "                            \"scheduled_depature_time\", \"actual_departure_time\") \\\n",
    "                    .cache()"
   ]
  },
  {
   "cell_type": "markdown",
   "metadata": {},
   "source": [
    "## Task 1: Top-3 Cessna Models"
   ]
  },
  {
   "cell_type": "code",
   "execution_count": 5,
   "metadata": {},
   "outputs": [],
   "source": [
    "# Filter out CESSNA aircraft from cessna_aircraft_df\n",
    "cessna_aircraft_df = aircraft_df.where(\"manufacturer == 'CESSNA'\")\n",
    "\n",
    "# Inner Join flight flight_cessna_df and cessna_aircraft_df\n",
    "# Broadcast join is used for performace as cessna_aircraft_df is a very small set (12 rows in the proviced dataset)\n",
    "flight_cessna_df = flight_df \\\n",
    "                    .join(broadcast(cessna_aircraft_df), \n",
    "                          cessna_aircraft_df.tailnum == flight_df.tail_number) \\\n",
    "                    .select(\"model\")\n",
    "\n",
    "\n",
    "window = Window() \\\n",
    "            .partitionBy(\"model\")\n",
    "\n",
    "# Alternatively: flight_cessna_df.groupBy(\"model\").count().orderBy(desc(\"count\")).take(3)\n",
    "top3 = flight_cessna_df \\\n",
    "                .select(\"model\", count(\"model\").over(window).alias(\"count\")) \\\n",
    "                .distinct() \\\n",
    "                .orderBy(desc(\"count\")) \\\n",
    "                .take(3)\n",
    "\n",
    "\n",
    "# write result to a local file\n",
    "f = open(\"Cassna_top3.txt\", \"w\")\n",
    "for row in top3:\n",
    "    f.write(\"Cassna \"+ row['model'] + \"\\t\" + str(row[1]) + \"\\n\")\n",
    "\n",
    "f.close()"
   ]
  },
  {
   "cell_type": "markdown",
   "metadata": {},
   "source": [
    "## Task 2: Average Departure Delay"
   ]
  },
  {
   "cell_type": "markdown",
   "metadata": {},
   "source": [
    "#### Transform columns in flight_df to get year, and scheduled_depature_time, actual_departure_time in minutes"
   ]
  },
  {
   "cell_type": "code",
   "execution_count": 6,
   "metadata": {},
   "outputs": [],
   "source": [
    "## User Defined Function to get sum of minutes from start of the day to departure time\n",
    "def get_minutes(dep_str, act_str):\n",
    "    h,m,s = dep_str.split(\":\")\n",
    "    h2,m2,s2 = act_str.split(\":\")\n",
    "    return int(h2)*60 + int(m2) - int(h)*60 - int(m)\n",
    "\n",
    "## TODO: find a way to actually get user_specified_year from user input\n",
    "fake_user_specified_year = 1995\n",
    "get_minutes_udf = udf(lambda x,y:get_minutes(x,y), IntegerType())\n",
    "\n",
    "# c\n",
    "flight_year_df = flight_df.select(\"carrier_code\", \"flight_date\", \"scheduled_depature_time\", \"actual_departure_time\") \\\n",
    "                            .withColumn(\"year\",year(\"flight_date\")) \\\n",
    "                            .where(\"year == \" + str(fake_user_specified_year)) \\\n",
    "                            .where(\"actual_departure_time is not null\") \\\n",
    "                            .withColumn(\"lateness\", get_minutes_udf(\"scheduled_depature_time\", \"actual_departure_time\")) \\\n",
    "                            .drop(\"flight_date\", \"scheduled_depature_time\", \"actual_departure_time\")\n",
    "\n",
    "delayed_flight_df = flight_year_df.where(\"lateness > 0\") "
   ]
  },
  {
   "cell_type": "code",
   "execution_count": 7,
   "metadata": {},
   "outputs": [],
   "source": [
    "# Filter out US airlines\n",
    "airline_us_df = airline_df.where(\"country == 'United States'\").drop(\"country\")\n",
    "# broadcast join flight and US airlines\n",
    "airline_flight_df = delayed_flight_df.join(broadcast(airline_us_df), \"carrier_code\").cache()\n",
    "\n",
    "delay_window = Window() \\\n",
    "                .partitionBy(\"name\") \\\n",
    "## Get summary statistics\n",
    "lateness_summary = airline_flight_df \\\n",
    "                    .select(\"name\",\n",
    "                            count(\"lateness\").over(delay_window).alias(\"count\"),\n",
    "                            avg(\"lateness\").over(delay_window).alias(\"average\"),\n",
    "                            min(\"lateness\").over(delay_window).alias(\"minimum\"),\n",
    "                            max(\"lateness\").over(delay_window).alias(\"maximum\"),) \\\n",
    "                    .distinct() \\\n",
    "                    .orderBy(\"name\") \\\n",
    "                    .collect()\n",
    "\n",
    "# write result to local file\n",
    "filename = \"us_delay_flights_summary_\"+ str(fake_user_specified_year)+'.txt'\n",
    "f2 = open(filename, \"w\")\n",
    "for row in lateness_summary:\n",
    "    line = row['name']+'\\t'+str(row['count'])+'\\t'+ \\\n",
    "            str(row['average'])+'\\t'+ str(row['minimum'])+'\\t'+str(row['maximum'])+'\\n'\n",
    "    f2.write(line)\n",
    "f2.close()"
   ]
  },
  {
   "cell_type": "markdown",
   "metadata": {},
   "source": [
    "## Task 3: Most Popular Aircraft Types"
   ]
  },
  {
   "cell_type": "code",
   "execution_count": 8,
   "metadata": {},
   "outputs": [],
   "source": [
    "## TODO: find a way to get from user input\n",
    "user_defined_country = \"'United States'\"\n",
    "airline_selected_df = airline_df.where(\"country ==\" + user_defined_country).drop(\"country\")\n",
    "# join flight data with selected airlines and then join with aircrafts\n",
    "flight_airline_aircraft_df = flight_df \\\n",
    "                                .join(broadcast(airline_selected_df), \"carrier_code\") \\\n",
    "                                .join(broadcast(aircraft_df), \n",
    "                                      flight_df.tail_number == aircraft_df.tailnum) \\\n",
    "                                .select(\"name\",\"tailnum\", \"manufacturer\", \"model\")"
   ]
  },
  {
   "cell_type": "code",
   "execution_count": 9,
   "metadata": {},
   "outputs": [],
   "source": [
    "popular_aircraft_window = Window() \\\n",
    "                            .partitionBy(\"name\", \"manufacturer\", \"model\" )\n",
    "\n",
    "rank_window = Window() \\\n",
    "                .partitionBy(\"name\") \\\n",
    "                .orderBy(desc(\"count\"))\n",
    "# count number of flights per partition of aircraft model\n",
    "# rank the model based on counts of flights within an airline\n",
    "# filter out models that has rank <= 5\n",
    "# order by name and rank\n",
    "# concatenate \"manufacturer\" and \"model\" columns for convenience later\n",
    "popular_aircraft_result = flight_airline_aircraft_df \\\n",
    "                            .select(\"name\", \"manufacturer\", \"model\",\n",
    "                                    count(\"name\").over(popular_aircraft_window).alias(\"count\")) \\\n",
    "                            .distinct() \\\n",
    "                            .withColumn(\"rank\", rank().over(rank_window)) \\\n",
    "                            .where(\"rank <=5\") \\\n",
    "                            .orderBy(\"name\", \"rank\") \\\n",
    "                            .select(\"name\",concat(\"manufacturer\", lit(' '),\"model\").alias(\"aircraft_type\")) \\\n",
    "                            .collect()\n"
   ]
  },
  {
   "cell_type": "code",
   "execution_count": 10,
   "metadata": {},
   "outputs": [],
   "source": [
    "# Deal with the situation where some airline has less than 5 aircraft model \n",
    "# while some may have ties in the top5\n",
    "\n",
    "airline_list = []\n",
    "aircraft_dict = {}\n",
    "for row in popular_aircraft_result:\n",
    "    if row[\"name\"] not in airline_list:\n",
    "        airline_list.append(row[\"name\"])\n",
    "    aircraft_dict.setdefault(row[\"name\"],[]).append(row[\"aircraft_type\"])\n",
    "\n",
    "# Write result to a local file\n",
    "filename = \"popular_aircraft_in_\"+user_defined_country+\".txt\"\n",
    "f3 = open(filename, \"w\")\n",
    "for row in airline_list:\n",
    "    line = row+'\\t'\n",
    "    list_of_aircrafts = aircraft_dict[row]\n",
    "    if(len(list_of_aircrafts)>5):\n",
    "        line += str(list_of_aircrafts[:5]) + \"\\n\"\n",
    "    else:\n",
    "        line += str(list_of_aircrafts) + \"\\n\"\n",
    "    f3.write(line)\n",
    "\n",
    "f3.close()\n"
   ]
  }
 ],
 "metadata": {
  "kernelspec": {
   "display_name": "Python 3",
   "language": "python",
   "name": "python3"
  },
  "language_info": {
   "codemirror_mode": {
    "name": "ipython",
    "version": 3
   },
   "file_extension": ".py",
   "mimetype": "text/x-python",
   "name": "python",
   "nbconvert_exporter": "python",
   "pygments_lexer": "ipython3",
   "version": "3.7.1"
  }
 },
 "nbformat": 4,
 "nbformat_minor": 2
}
